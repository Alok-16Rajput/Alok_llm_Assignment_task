{
  "cells": [
    {
      "cell_type": "markdown",
      "metadata": {
        "id": "JqWFUCNeRwzI"
      },
      "source": []
    },
    {
      "cell_type": "code",
      "execution_count": 6,
      "metadata": {
        "colab": {
          "base_uri": "https://localhost:8080/"
        },
        "id": "VSoFpxgHRxIQ",
        "outputId": "3f723f30-6b12-4af5-9d0c-5ad580efdd25"
      },
      "outputs": [
        {
          "name": "stdout",
          "output_type": "stream",
          "text": [
            "Collecting logparser\n",
            "  Downloading logparser-0.8.4-py3-none-any.whl.metadata (9.5 kB)\n",
            "Requirement already satisfied: pexpect>=4.7.0 in /usr/local/lib/python3.11/dist-packages (from logparser) (4.9.0)\n",
            "Requirement already satisfied: six>=1.12.0 in /usr/local/lib/python3.11/dist-packages (from logparser) (1.17.0)\n",
            "Requirement already satisfied: ptyprocess>=0.5 in /usr/local/lib/python3.11/dist-packages (from pexpect>=4.7.0->logparser) (0.7.0)\n",
            "Downloading logparser-0.8.4-py3-none-any.whl (38 kB)\n",
            "Installing collected packages: logparser\n",
            "Successfully installed logparser-0.8.4\n"
          ]
        }
      ],
      "source": [
        "!pip install logparser"
      ]
    },
    {
      "cell_type": "code",
      "execution_count": 7,
      "metadata": {
        "colab": {
          "base_uri": "https://localhost:8080/"
        },
        "id": "IRY0VwvhRxWO",
        "outputId": "b8cdde6c-aa50-4e26-869d-db352f55f0a5"
      },
      "outputs": [
        {
          "name": "stdout",
          "output_type": "stream",
          "text": [
            "Query: List high-risk admin actions\n",
            "Processing query: List high-risk admin actions\n",
            "Sample log entry: {'timestamp': nan, 'user': ' ', 'action': 'ConsoleLogin', 'source_IP': '103.123.60.120', 'risk_score': 0.0}\n",
            "Answer: Results for query: List high-risk admin actions\n",
            "Query: Find external IP access to S3 buckets\n",
            "Processing query: Find external IP access to S3 buckets\n",
            "Sample log entry: {'timestamp': nan, 'user': ' ', 'action': 'ConsoleLogin', 'source_IP': '103.123.60.120', 'risk_score': 0.0}\n",
            "Answer: Results for query: Find external IP access to S3 buckets\n"
          ]
        }
      ],
      "source": [
        "import pandas as pd\n",
        "import logparser\n",
        "\n",
        "# Load cleaned data\n",
        "logs = pd.read_csv(\"cleaned_data (1).csv\").head(50).to_dict(orient=\"records\")\n",
        "\n",
        "# Predefined queries\n",
        "queries = [\n",
        "    \"List high-risk admin actions\",\n",
        "    \"Find external IP access to S3 buckets\"\n",
        "]\n",
        "\n",
        "# Function to mimic the functionality of analyze_logs (replace with actual implementation if available)\n",
        "def analyze_logs(query, logs):\n",
        "    \"\"\"\n",
        "    This function simulates the behavior of analyze_logs.\n",
        "    You should replace it with the actual implementation if available.\n",
        "    \"\"\"\n",
        "    # Placeholder: print the query and the first log entry\n",
        "    print(f\"Processing query: {query}\")\n",
        "    if logs:\n",
        "        print(f\"Sample log entry: {logs[0]}\")\n",
        "    else:\n",
        "        print(\"No logs provided.\")\n",
        "    return \"Results for query: \" + query\n",
        "\n",
        "# Process each query\n",
        "for query in queries:\n",
        "    print(f\"Query: {query}\")\n",
        "    # Call the function using logparser.search\n",
        "    print(\"Answer:\", analyze_logs(query, logs))"
      ]
    },
    {
      "cell_type": "code",
      "execution_count": null,
      "metadata": {
        "id": "Lsq2zuMXP_3B"
      },
      "outputs": [],
      "source": []
    },
    {
      "cell_type": "code",
      "execution_count": null,
      "metadata": {
        "id": "WW41AnhXP0fc"
      },
      "outputs": [],
      "source": []
    }
  ],
  "metadata": {
    "colab": {
      "provenance": []
    },
    "kernelspec": {
      "display_name": "Python 3",
      "name": "python3"
    },
    "language_info": {
      "name": "python"
    }
  },
  "nbformat": 4,
  "nbformat_minor": 0
}
